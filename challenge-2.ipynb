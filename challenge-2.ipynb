{
 "cells": [
  {
   "cell_type": "markdown",
   "id": "threaded-asbestos",
   "metadata": {},
   "source": [
    "# Challenge 2: Count Commits\n",
    "\n",
    "Count how many commits were made in the past week.\n",
    "\n",
    "Obtain all the commits made in the past week via API, which is a JSON array that contains multiple commit objects.\n",
    "\n",
    "Count how many commit objects are contained in the array."
   ]
  },
  {
   "cell_type": "markdown",
   "id": "norwegian-praise",
   "metadata": {},
   "source": [
    "⚠️ **Remember to limit your output before submission**."
   ]
  },
  {
   "cell_type": "code",
   "execution_count": 3,
   "id": "developing-printing",
   "metadata": {},
   "outputs": [
    {
     "data": {
      "text/plain": [
       "<Response [200]>"
      ]
     },
     "execution_count": 3,
     "metadata": {},
     "output_type": "execute_result"
    }
   ],
   "source": [
    "#Your code\n",
    "import requests as req\n",
    "\n",
    "url = \"https://api.github.com/repos/ironhack-datalabs/datamad1020-rev\"\n",
    "\n",
    "res = req.get(url)\n",
    "res"
   ]
  },
  {
   "cell_type": "code",
   "execution_count": 4,
   "id": "9bda6323",
   "metadata": {},
   "outputs": [
    {
     "data": {
      "text/plain": [
       "'https://api.github.com/repos/ironhack-datalabs/datamad1020-rev/commits{/sha}'"
      ]
     },
     "execution_count": 4,
     "metadata": {},
     "output_type": "execute_result"
    }
   ],
   "source": [
    "res.json()[\"commits_url\"]"
   ]
  },
  {
   "cell_type": "code",
   "execution_count": 5,
   "id": "4151b0b6",
   "metadata": {},
   "outputs": [
    {
     "name": "stdout",
     "output_type": "stream",
     "text": [
      "30\n"
     ]
    }
   ],
   "source": [
    "commits = \"https://api.github.com/repos/ironhack-datalabs/datamad1020-rev/commits\"\n",
    "\n",
    "res1 = req.get(commits)\n",
    "length = len(res1.json())\n",
    "print(length)"
   ]
  },
  {
   "cell_type": "code",
   "execution_count": 6,
   "id": "creative-stable",
   "metadata": {},
   "outputs": [],
   "source": [
    "# Example: print(variable[:10]) "
   ]
  },
  {
   "cell_type": "code",
   "execution_count": 7,
   "id": "001f8464",
   "metadata": {},
   "outputs": [
    {
     "name": "stdout",
     "output_type": "stream",
     "text": [
      "[{'sha': '50581734c624a4d60851f59ed028d32b43f09997', 'node_id': 'C_kwDOEiJ229oAKDUwNTgxNzM0YzYyNGE0ZDYwODUxZjU5ZWQwMjhkMzJiNDNmMDk5OTc', 'commit': {'author': {'name': 'Fernando Costa', 'email': '54676992+breogann@users.noreply.github.com', 'date': '2022-07-21T16:02:45Z'}, 'committer': {'name': 'GitHub', 'email': 'noreply@github.com', 'date': '2022-07-21T16:02:45Z'}, 'message': 'ola', 'tree': {'sha': '20b07f12dcd6b74d8fcd3dc2647cf93cbb5544aa', 'url': 'https://api.github.com/repos/ironhack-datalabs/datamad1020-rev/git/trees/20b07f12dcd6b74d8fcd3dc2647cf93cbb5544aa'}, 'url': 'https://api.github.com/repos/ironhack-datalabs/datamad1020-rev/git/commits/50581734c624a4d60851f59ed028d32b43f09997', 'comment_count': 0, 'verification': {'verified': True, 'reason': 'valid', 'signature': '-----BEGIN PGP SIGNATURE-----\\n\\nwsBcBAABCAAQBQJi2XilCRBK7hj4Ov3rIwAAvp8IAKDrvJ869zXa6ASC+MwJ1mbd\\n1Br7nv8T61SR90nrH+PrgUo1W570aQcT4fO/5yRmVThWF90APu5Y7ycfX4gfFIcO\\n1iK+fSisJ8uY7BDIkmaTb/T42GXTS9bkbZXz17Sv5OrbfRDUsiHLUX5app4utuIx\\n7p5sPTTqZ1p4f8gi9fgsuXtwnTCI8d/brH+Q1iqSI0QOxV9lpfC9Ffj6gBWuCTsI\\nske4ylfVjnoQdlx6k11AvQif1DhoyabVodXx/mezlW+5kS9YVFcKgihe+ymwyifS\\nwT8ppgwcdgii8wn1URcJiky37RNVNYeMLZqCiz/4qs1DfQwNG3vSto6eTmk74jo=\\n=t7N6\\n-----END PGP SIGNATURE-----\\n', 'payload': 'tree 20b07f12dcd6b74d8fcd3dc2647cf93cbb5544aa\\nparent f61a35d1016bfc11bb53e8d844db395fc6c4933d\\nauthor Fernando Costa <54676992+breogann@users.noreply.github.com> 1658419365 +0200\\ncommitter GitHub <noreply@github.com> 1658419365 +0200\\n\\nola'}}, 'url': 'https://api.github.com/repos/ironhack-datalabs/datamad1020-rev/commits/50581734c624a4d60851f59ed028d32b43f09997', 'html_url': 'https://github.com/ironhack-datalabs/datamad1020-rev/commit/50581734c624a4d60851f59ed028d32b43f09997', 'comments_url': 'https://api.github.com/repos/ironhack-datalabs/datamad1020-rev/commits/50581734c624a4d60851f59ed028d32b43f09997/comments', 'author': {'login': 'breogann', 'id': 54676992, 'node_id': 'MDQ6VXNlcjU0Njc2OTky', 'avatar_url': 'https://avatars.githubusercontent.com/u/54676992?v=4', 'gravatar_id': '', 'url': 'https://api.github.com/users/breogann', 'html_url': 'https://github.com/breogann', 'followers_url': 'https://api.github.com/users/breogann/followers', 'following_url': 'https://api.github.com/users/breogann/following{/other_user}', 'gists_url': 'https://api.github.com/users/breogann/gists{/gist_id}', 'starred_url': 'https://api.github.com/users/breogann/starred{/owner}{/repo}', 'subscriptions_url': 'https://api.github.com/users/breogann/subscriptions', 'organizations_url': 'https://api.github.com/users/breogann/orgs', 'repos_url': 'https://api.github.com/users/breogann/repos', 'events_url': 'https://api.github.com/users/breogann/events{/privacy}', 'received_events_url': 'https://api.github.com/users/breogann/received_events', 'type': 'User', 'site_admin': False}, 'committer': {'login': 'web-flow', 'id': 19864447, 'node_id': 'MDQ6VXNlcjE5ODY0NDQ3', 'avatar_url': 'https://avatars.githubusercontent.com/u/19864447?v=4', 'gravatar_id': '', 'url': 'https://api.github.com/users/web-flow', 'html_url': 'https://github.com/web-flow', 'followers_url': 'https://api.github.com/users/web-flow/followers', 'following_url': 'https://api.github.com/users/web-flow/following{/other_user}', 'gists_url': 'https://api.github.com/users/web-flow/gists{/gist_id}', 'starred_url': 'https://api.github.com/users/web-flow/starred{/owner}{/repo}', 'subscriptions_url': 'https://api.github.com/users/web-flow/subscriptions', 'organizations_url': 'https://api.github.com/users/web-flow/orgs', 'repos_url': 'https://api.github.com/users/web-flow/repos', 'events_url': 'https://api.github.com/users/web-flow/events{/privacy}', 'received_events_url': 'https://api.github.com/users/web-flow/received_events', 'type': 'User', 'site_admin': False}, 'parents': [{'sha': 'f61a35d1016bfc11bb53e8d844db395fc6c4933d', 'url': 'https://api.github.com/repos/ironhack-datalabs/datamad1020-rev/commits/f61a35d1016bfc11bb53e8d844db395fc6c4933d', 'html_url': 'https://github.com/ironhack-datalabs/datamad1020-rev/commit/f61a35d1016bfc11bb53e8d844db395fc6c4933d'}]}, {'sha': 'f61a35d1016bfc11bb53e8d844db395fc6c4933d', 'node_id': 'MDY6Q29tbWl0MzA0MjQ4NTM5OmY2MWEzNWQxMDE2YmZjMTFiYjUzZThkODQ0ZGIzOTVmYzZjNDkzM2Q=', 'commit': {'author': {'name': 'ras', 'email': 'agalvezcorell@gmail.com', 'date': '2021-08-26T14:17:20Z'}, 'committer': {'name': 'ras', 'email': 'agalvezcorell@gmail.com', 'date': '2021-08-26T14:17:20Z'}, 'message': 'Hola polluelos de DataMad FT Agosto 2021 ♥️', 'tree': {'sha': '3f29ee656cb674a9e5d77748490d23bdff86aa18', 'url': 'https://api.github.com/repos/ironhack-datalabs/datamad1020-rev/git/trees/3f29ee656cb674a9e5d77748490d23bdff86aa18'}, 'url': 'https://api.github.com/repos/ironhack-datalabs/datamad1020-rev/git/commits/f61a35d1016bfc11bb53e8d844db395fc6c4933d', 'comment_count': 0, 'verification': {'verified': False, 'reason': 'unsigned', 'signature': None, 'payload': None}}, 'url': 'https://api.github.com/repos/ironhack-datalabs/datamad1020-rev/commits/f61a35d1016bfc11bb53e8d844db395fc6c4933d', 'html_url': 'https://github.com/ironhack-datalabs/datamad1020-rev/commit/f61a35d1016bfc11bb53e8d844db395fc6c4933d', 'comments_url': 'https://api.github.com/repos/ironhack-datalabs/datamad1020-rev/commits/f61a35d1016bfc11bb53e8d844db395fc6c4933d/comments', 'author': None, 'committer': None, 'parents': [{'sha': '79efcf150e34bc5eb982fde74dc5446bafc39bad', 'url': 'https://api.github.com/repos/ironhack-datalabs/datamad1020-rev/commits/79efcf150e34bc5eb982fde74dc5446bafc39bad', 'html_url': 'https://github.com/ironhack-datalabs/datamad1020-rev/commit/79efcf150e34bc5eb982fde74dc5446bafc39bad'}]}, {'sha': '79efcf150e34bc5eb982fde74dc5446bafc39bad', 'node_id': 'MDY6Q29tbWl0MzA0MjQ4NTM5Ojc5ZWZjZjE1MGUzNGJjNWViOTgyZmRlNzRkYzU0NDZiYWZjMzliYWQ=', 'commit': {'author': {'name': 'agalvezcorell', 'email': 'agalvezcorell@gmail.com', 'date': '2021-06-17T14:03:57Z'}, 'committer': {'name': 'agalvezcorell', 'email': 'agalvezcorell@gmail.com', 'date': '2021-06-17T14:03:57Z'}, 'message': 'Hola Full timeeeeeee 🚀', 'tree': {'sha': 'a24c21d0b71daa175dab8cfe0246eae59a00446b', 'url': 'https://api.github.com/repos/ironhack-datalabs/datamad1020-rev/git/trees/a24c21d0b71daa175dab8cfe0246eae59a00446b'}, 'url': 'https://api.github.com/repos/ironhack-datalabs/datamad1020-rev/git/commits/79efcf150e34bc5eb982fde74dc5446bafc39bad', 'comment_count': 0, 'verification': {'verified': False, 'reason': 'unsigned', 'signature': None, 'payload': None}}, 'url': 'https://api.github.com/repos/ironhack-datalabs/datamad1020-rev/commits/79efcf150e34bc5eb982fde74dc5446bafc39bad', 'html_url': 'https://github.com/ironhack-datalabs/datamad1020-rev/commit/79efcf150e34bc5eb982fde74dc5446bafc39bad', 'comments_url': 'https://api.github.com/repos/ironhack-datalabs/datamad1020-rev/commits/79efcf150e34bc5eb982fde74dc5446bafc39bad/comments', 'author': None, 'committer': None, 'parents': [{'sha': '04bc51c0a75f3e6604fe7ac41da8b3c69919f7c3', 'url': 'https://api.github.com/repos/ironhack-datalabs/datamad1020-rev/commits/04bc51c0a75f3e6604fe7ac41da8b3c69919f7c3', 'html_url': 'https://github.com/ironhack-datalabs/datamad1020-rev/commit/04bc51c0a75f3e6604fe7ac41da8b3c69919f7c3'}]}, {'sha': '04bc51c0a75f3e6604fe7ac41da8b3c69919f7c3', 'node_id': 'MDY6Q29tbWl0MzA0MjQ4NTM5OjA0YmM1MWMwYTc1ZjNlNjYwNGZlN2FjNDFkYThiM2M2OTkxOWY3YzM=', 'commit': {'author': {'name': 'Ras Soyungalgo', 'email': 'agalvezcorell@gmail.com', 'date': '2021-03-24T18:55:39Z'}, 'committer': {'name': 'Ras Soyungalgo', 'email': 'agalvezcorell@gmail.com', 'date': '2021-03-24T18:55:39Z'}, 'message': 'Hola datamad Part Time ♥️', 'tree': {'sha': '872b8a740d18c3a9abe469f1df7a7c4b26016c48', 'url': 'https://api.github.com/repos/ironhack-datalabs/datamad1020-rev/git/trees/872b8a740d18c3a9abe469f1df7a7c4b26016c48'}, 'url': 'https://api.github.com/repos/ironhack-datalabs/datamad1020-rev/git/commits/04bc51c0a75f3e6604fe7ac41da8b3c69919f7c3', 'comment_count': 0, 'verification': {'verified': False, 'reason': 'unsigned', 'signature': None, 'payload': None}}, 'url': 'https://api.github.com/repos/ironhack-datalabs/datamad1020-rev/commits/04bc51c0a75f3e6604fe7ac41da8b3c69919f7c3', 'html_url': 'https://github.com/ironhack-datalabs/datamad1020-rev/commit/04bc51c0a75f3e6604fe7ac41da8b3c69919f7c3', 'comments_url': 'https://api.github.com/repos/ironhack-datalabs/datamad1020-rev/commits/04bc51c0a75f3e6604fe7ac41da8b3c69919f7c3/comments', 'author': None, 'committer': None, 'parents': [{'sha': '62ccb107c540872cb332b10768b890040fb50c1f', 'url': 'https://api.github.com/repos/ironhack-datalabs/datamad1020-rev/commits/62ccb107c540872cb332b10768b890040fb50c1f', 'html_url': 'https://github.com/ironhack-datalabs/datamad1020-rev/commit/62ccb107c540872cb332b10768b890040fb50c1f'}]}, {'sha': '62ccb107c540872cb332b10768b890040fb50c1f', 'node_id': 'MDY6Q29tbWl0MzA0MjQ4NTM5OjYyY2NiMTA3YzU0MDg3MmNiMzMyYjEwNzY4Yjg5MDA0MGZiNTBjMWY=', 'commit': {'author': {'name': 'Ras Soyungalgo', 'email': 'agalvezcorell@gmail.com', 'date': '2021-01-26T13:00:09Z'}, 'committer': {'name': 'Ras Soyungalgo', 'email': 'agalvezcorell@gmail.com', 'date': '2021-01-26T13:00:09Z'}, 'message': 'edito challenge1 sin cambios, solo comment', 'tree': {'sha': '1fb3ebfb5f65d6ec77ea4b1666b95f5e6e09ac63', 'url': 'https://api.github.com/repos/ironhack-datalabs/datamad1020-rev/git/trees/1fb3ebfb5f65d6ec77ea4b1666b95f5e6e09ac63'}, 'url': 'https://api.github.com/repos/ironhack-datalabs/datamad1020-rev/git/commits/62ccb107c540872cb332b10768b890040fb50c1f', 'comment_count': 0, 'verification': {'verified': False, 'reason': 'unsigned', 'signature': None, 'payload': None}}, 'url': 'https://api.github.com/repos/ironhack-datalabs/datamad1020-rev/commits/62ccb107c540872cb332b10768b890040fb50c1f', 'html_url': 'https://github.com/ironhack-datalabs/datamad1020-rev/commit/62ccb107c540872cb332b10768b890040fb50c1f', 'comments_url': 'https://api.github.com/repos/ironhack-datalabs/datamad1020-rev/commits/62ccb107c540872cb332b10768b890040fb50c1f/comments', 'author': None, 'committer': None, 'parents': [{'sha': 'f3a48ac39f43cb8130695180360f5644eeefd309', 'url': 'https://api.github.com/repos/ironhack-datalabs/datamad1020-rev/commits/f3a48ac39f43cb8130695180360f5644eeefd309', 'html_url': 'https://github.com/ironhack-datalabs/datamad1020-rev/commit/f3a48ac39f43cb8130695180360f5644eeefd309'}]}, {'sha': 'f3a48ac39f43cb8130695180360f5644eeefd309', 'node_id': 'MDY6Q29tbWl0MzA0MjQ4NTM5OmYzYTQ4YWMzOWY0M2NiODEzMDY5NTE4MDM2MGY1NjQ0ZWVlZmQzMDk=', 'commit': {'author': {'name': '“breogann”', 'email': 'fernandocostapradillo@gmail.com', 'date': '2020-12-07T14:44:17Z'}, 'committer': {'name': '“breogann”', 'email': 'fernandocostapradillo@gmail.com', 'date': '2020-12-07T14:44:17Z'}, 'message': 'ignore checkpoints recursively', 'tree': {'sha': 'b241cabf6c74341d96269d0d86ad9c1c875c5464', 'url': 'https://api.github.com/repos/ironhack-datalabs/datamad1020-rev/git/trees/b241cabf6c74341d96269d0d86ad9c1c875c5464'}, 'url': 'https://api.github.com/repos/ironhack-datalabs/datamad1020-rev/git/commits/f3a48ac39f43cb8130695180360f5644eeefd309', 'comment_count': 0, 'verification': {'verified': False, 'reason': 'unsigned', 'signature': None, 'payload': None}}, 'url': 'https://api.github.com/repos/ironhack-datalabs/datamad1020-rev/commits/f3a48ac39f43cb8130695180360f5644eeefd309', 'html_url': 'https://github.com/ironhack-datalabs/datamad1020-rev/commit/f3a48ac39f43cb8130695180360f5644eeefd309', 'comments_url': 'https://api.github.com/repos/ironhack-datalabs/datamad1020-rev/commits/f3a48ac39f43cb8130695180360f5644eeefd309/comments', 'author': {'login': 'breogann', 'id': 54676992, 'node_id': 'MDQ6VXNlcjU0Njc2OTky', 'avatar_url': 'https://avatars.githubusercontent.com/u/54676992?v=4', 'gravatar_id': '', 'url': 'https://api.github.com/users/breogann', 'html_url': 'https://github.com/breogann', 'followers_url': 'https://api.github.com/users/breogann/followers', 'following_url': 'https://api.github.com/users/breogann/following{/other_user}', 'gists_url': 'https://api.github.com/users/breogann/gists{/gist_id}', 'starred_url': 'https://api.github.com/users/breogann/starred{/owner}{/repo}', 'subscriptions_url': 'https://api.github.com/users/breogann/subscriptions', 'organizations_url': 'https://api.github.com/users/breogann/orgs', 'repos_url': 'https://api.github.com/users/breogann/repos', 'events_url': 'https://api.github.com/users/breogann/events{/privacy}', 'received_events_url': 'https://api.github.com/users/breogann/received_events', 'type': 'User', 'site_admin': False}, 'committer': {'login': 'breogann', 'id': 54676992, 'node_id': 'MDQ6VXNlcjU0Njc2OTky', 'avatar_url': 'https://avatars.githubusercontent.com/u/54676992?v=4', 'gravatar_id': '', 'url': 'https://api.github.com/users/breogann', 'html_url': 'https://github.com/breogann', 'followers_url': 'https://api.github.com/users/breogann/followers', 'following_url': 'https://api.github.com/users/breogann/following{/other_user}', 'gists_url': 'https://api.github.com/users/breogann/gists{/gist_id}', 'starred_url': 'https://api.github.com/users/breogann/starred{/owner}{/repo}', 'subscriptions_url': 'https://api.github.com/users/breogann/subscriptions', 'organizations_url': 'https://api.github.com/users/breogann/orgs', 'repos_url': 'https://api.github.com/users/breogann/repos', 'events_url': 'https://api.github.com/users/breogann/events{/privacy}', 'received_events_url': 'https://api.github.com/users/breogann/received_events', 'type': 'User', 'site_admin': False}, 'parents': [{'sha': 'ef275bdbc37bb650f1457ada8304be91ac24933f', 'url': 'https://api.github.com/repos/ironhack-datalabs/datamad1020-rev/commits/ef275bdbc37bb650f1457ada8304be91ac24933f', 'html_url': 'https://github.com/ironhack-datalabs/datamad1020-rev/commit/ef275bdbc37bb650f1457ada8304be91ac24933f'}]}, {'sha': 'ef275bdbc37bb650f1457ada8304be91ac24933f', 'node_id': 'MDY6Q29tbWl0MzA0MjQ4NTM5OmVmMjc1YmRiYzM3YmI2NTBmMTQ1N2FkYTgzMDRiZTkxYWMyNDkzM2Y=', 'commit': {'author': {'name': 'Ras Soyungalgo', 'email': 'agalvezcorell@gmail.com', 'date': '2020-11-27T15:11:12Z'}, 'committer': {'name': 'Ras Soyungalgo', 'email': 'agalvezcorell@gmail.com', 'date': '2020-11-27T15:11:12Z'}, 'message': 'actualizo cambios', 'tree': {'sha': 'dec3f8a72fd014383d9a4cdad38d7d48c760aa26', 'url': 'https://api.github.com/repos/ironhack-datalabs/datamad1020-rev/git/trees/dec3f8a72fd014383d9a4cdad38d7d48c760aa26'}, 'url': 'https://api.github.com/repos/ironhack-datalabs/datamad1020-rev/git/commits/ef275bdbc37bb650f1457ada8304be91ac24933f', 'comment_count': 0, 'verification': {'verified': False, 'reason': 'unsigned', 'signature': None, 'payload': None}}, 'url': 'https://api.github.com/repos/ironhack-datalabs/datamad1020-rev/commits/ef275bdbc37bb650f1457ada8304be91ac24933f', 'html_url': 'https://github.com/ironhack-datalabs/datamad1020-rev/commit/ef275bdbc37bb650f1457ada8304be91ac24933f', 'comments_url': 'https://api.github.com/repos/ironhack-datalabs/datamad1020-rev/commits/ef275bdbc37bb650f1457ada8304be91ac24933f/comments', 'author': None, 'committer': None, 'parents': [{'sha': '718f44fc5724de35b3dcca095dbab043b0d861a4', 'url': 'https://api.github.com/repos/ironhack-datalabs/datamad1020-rev/commits/718f44fc5724de35b3dcca095dbab043b0d861a4', 'html_url': 'https://github.com/ironhack-datalabs/datamad1020-rev/commit/718f44fc5724de35b3dcca095dbab043b0d861a4'}]}, {'sha': '718f44fc5724de35b3dcca095dbab043b0d861a4', 'node_id': 'MDY6Q29tbWl0MzA0MjQ4NTM5OjcxOGY0NGZjNTcyNGRlMzViM2RjY2EwOTVkYmFiMDQzYjBkODYxYTQ=', 'commit': {'author': {'name': 'Ras Soyungalgo', 'email': 'agalvezcorell@gmail.com', 'date': '2020-11-27T14:53:46Z'}, 'committer': {'name': 'Ras Soyungalgo', 'email': 'agalvezcorell@gmail.com', 'date': '2020-11-27T14:53:46Z'}, 'message': 'portada proyecto', 'tree': {'sha': 'f1017f50b08c855071f23dae6e8eac224036c6fd', 'url': 'https://api.github.com/repos/ironhack-datalabs/datamad1020-rev/git/trees/f1017f50b08c855071f23dae6e8eac224036c6fd'}, 'url': 'https://api.github.com/repos/ironhack-datalabs/datamad1020-rev/git/commits/718f44fc5724de35b3dcca095dbab043b0d861a4', 'comment_count': 0, 'verification': {'verified': False, 'reason': 'unsigned', 'signature': None, 'payload': None}}, 'url': 'https://api.github.com/repos/ironhack-datalabs/datamad1020-rev/commits/718f44fc5724de35b3dcca095dbab043b0d861a4', 'html_url': 'https://github.com/ironhack-datalabs/datamad1020-rev/commit/718f44fc5724de35b3dcca095dbab043b0d861a4', 'comments_url': 'https://api.github.com/repos/ironhack-datalabs/datamad1020-rev/commits/718f44fc5724de35b3dcca095dbab043b0d861a4/comments', 'author': None, 'committer': None, 'parents': [{'sha': 'dfc28b1b3304d39425e4125f1a22ee6faffda18e', 'url': 'https://api.github.com/repos/ironhack-datalabs/datamad1020-rev/commits/dfc28b1b3304d39425e4125f1a22ee6faffda18e', 'html_url': 'https://github.com/ironhack-datalabs/datamad1020-rev/commit/dfc28b1b3304d39425e4125f1a22ee6faffda18e'}]}, {'sha': 'dfc28b1b3304d39425e4125f1a22ee6faffda18e', 'node_id': 'MDY6Q29tbWl0MzA0MjQ4NTM5OmRmYzI4YjFiMzMwNGQzOTQyNWU0MTI1ZjFhMjJlZTZmYWZmZGExOGU=', 'commit': {'author': {'name': 'sheriffff', 'email': 'manuel.lopez.sheriff@gmail.com', 'date': '2020-11-27T09:47:17Z'}, 'committer': {'name': 'sheriffff', 'email': 'manuel.lopez.sheriff@gmail.com', 'date': '2020-11-27T09:47:17Z'}, 'message': 'rename', 'tree': {'sha': '954864dcb5ec75cc40ddc55593828a382341690f', 'url': 'https://api.github.com/repos/ironhack-datalabs/datamad1020-rev/git/trees/954864dcb5ec75cc40ddc55593828a382341690f'}, 'url': 'https://api.github.com/repos/ironhack-datalabs/datamad1020-rev/git/commits/dfc28b1b3304d39425e4125f1a22ee6faffda18e', 'comment_count': 0, 'verification': {'verified': False, 'reason': 'unsigned', 'signature': None, 'payload': None}}, 'url': 'https://api.github.com/repos/ironhack-datalabs/datamad1020-rev/commits/dfc28b1b3304d39425e4125f1a22ee6faffda18e', 'html_url': 'https://github.com/ironhack-datalabs/datamad1020-rev/commit/dfc28b1b3304d39425e4125f1a22ee6faffda18e', 'comments_url': 'https://api.github.com/repos/ironhack-datalabs/datamad1020-rev/commits/dfc28b1b3304d39425e4125f1a22ee6faffda18e/comments', 'author': {'login': 'sheriffff', 'id': 23318929, 'node_id': 'MDQ6VXNlcjIzMzE4OTI5', 'avatar_url': 'https://avatars.githubusercontent.com/u/23318929?v=4', 'gravatar_id': '', 'url': 'https://api.github.com/users/sheriffff', 'html_url': 'https://github.com/sheriffff', 'followers_url': 'https://api.github.com/users/sheriffff/followers', 'following_url': 'https://api.github.com/users/sheriffff/following{/other_user}', 'gists_url': 'https://api.github.com/users/sheriffff/gists{/gist_id}', 'starred_url': 'https://api.github.com/users/sheriffff/starred{/owner}{/repo}', 'subscriptions_url': 'https://api.github.com/users/sheriffff/subscriptions', 'organizations_url': 'https://api.github.com/users/sheriffff/orgs', 'repos_url': 'https://api.github.com/users/sheriffff/repos', 'events_url': 'https://api.github.com/users/sheriffff/events{/privacy}', 'received_events_url': 'https://api.github.com/users/sheriffff/received_events', 'type': 'User', 'site_admin': False}, 'committer': {'login': 'sheriffff', 'id': 23318929, 'node_id': 'MDQ6VXNlcjIzMzE4OTI5', 'avatar_url': 'https://avatars.githubusercontent.com/u/23318929?v=4', 'gravatar_id': '', 'url': 'https://api.github.com/users/sheriffff', 'html_url': 'https://github.com/sheriffff', 'followers_url': 'https://api.github.com/users/sheriffff/followers', 'following_url': 'https://api.github.com/users/sheriffff/following{/other_user}', 'gists_url': 'https://api.github.com/users/sheriffff/gists{/gist_id}', 'starred_url': 'https://api.github.com/users/sheriffff/starred{/owner}{/repo}', 'subscriptions_url': 'https://api.github.com/users/sheriffff/subscriptions', 'organizations_url': 'https://api.github.com/users/sheriffff/orgs', 'repos_url': 'https://api.github.com/users/sheriffff/repos', 'events_url': 'https://api.github.com/users/sheriffff/events{/privacy}', 'received_events_url': 'https://api.github.com/users/sheriffff/received_events', 'type': 'User', 'site_admin': False}, 'parents': [{'sha': '5c04532891061620385b72f1456c5988aebbc9a9', 'url': 'https://api.github.com/repos/ironhack-datalabs/datamad1020-rev/commits/5c04532891061620385b72f1456c5988aebbc9a9', 'html_url': 'https://github.com/ironhack-datalabs/datamad1020-rev/commit/5c04532891061620385b72f1456c5988aebbc9a9'}]}, {'sha': '5c04532891061620385b72f1456c5988aebbc9a9', 'node_id': 'MDY6Q29tbWl0MzA0MjQ4NTM5OjVjMDQ1MzI4OTEwNjE2MjAzODViNzJmMTQ1NmM1OTg4YWViYmM5YTk=', 'commit': {'author': {'name': 'sheriffff', 'email': 'manuel.lopez.sheriff@gmail.com', 'date': '2020-11-27T09:41:29Z'}, 'committer': {'name': 'sheriffff', 'email': 'manuel.lopez.sheriff@gmail.com', 'date': '2020-11-27T09:41:29Z'}, 'message': 'api project', 'tree': {'sha': '8bdb9766291d17b449a2db3b75bd18fc4e7799ab', 'url': 'https://api.github.com/repos/ironhack-datalabs/datamad1020-rev/git/trees/8bdb9766291d17b449a2db3b75bd18fc4e7799ab'}, 'url': 'https://api.github.com/repos/ironhack-datalabs/datamad1020-rev/git/commits/5c04532891061620385b72f1456c5988aebbc9a9', 'comment_count': 0, 'verification': {'verified': False, 'reason': 'unsigned', 'signature': None, 'payload': None}}, 'url': 'https://api.github.com/repos/ironhack-datalabs/datamad1020-rev/commits/5c04532891061620385b72f1456c5988aebbc9a9', 'html_url': 'https://github.com/ironhack-datalabs/datamad1020-rev/commit/5c04532891061620385b72f1456c5988aebbc9a9', 'comments_url': 'https://api.github.com/repos/ironhack-datalabs/datamad1020-rev/commits/5c04532891061620385b72f1456c5988aebbc9a9/comments', 'author': {'login': 'sheriffff', 'id': 23318929, 'node_id': 'MDQ6VXNlcjIzMzE4OTI5', 'avatar_url': 'https://avatars.githubusercontent.com/u/23318929?v=4', 'gravatar_id': '', 'url': 'https://api.github.com/users/sheriffff', 'html_url': 'https://github.com/sheriffff', 'followers_url': 'https://api.github.com/users/sheriffff/followers', 'following_url': 'https://api.github.com/users/sheriffff/following{/other_user}', 'gists_url': 'https://api.github.com/users/sheriffff/gists{/gist_id}', 'starred_url': 'https://api.github.com/users/sheriffff/starred{/owner}{/repo}', 'subscriptions_url': 'https://api.github.com/users/sheriffff/subscriptions', 'organizations_url': 'https://api.github.com/users/sheriffff/orgs', 'repos_url': 'https://api.github.com/users/sheriffff/repos', 'events_url': 'https://api.github.com/users/sheriffff/events{/privacy}', 'received_events_url': 'https://api.github.com/users/sheriffff/received_events', 'type': 'User', 'site_admin': False}, 'committer': {'login': 'sheriffff', 'id': 23318929, 'node_id': 'MDQ6VXNlcjIzMzE4OTI5', 'avatar_url': 'https://avatars.githubusercontent.com/u/23318929?v=4', 'gravatar_id': '', 'url': 'https://api.github.com/users/sheriffff', 'html_url': 'https://github.com/sheriffff', 'followers_url': 'https://api.github.com/users/sheriffff/followers', 'following_url': 'https://api.github.com/users/sheriffff/following{/other_user}', 'gists_url': 'https://api.github.com/users/sheriffff/gists{/gist_id}', 'starred_url': 'https://api.github.com/users/sheriffff/starred{/owner}{/repo}', 'subscriptions_url': 'https://api.github.com/users/sheriffff/subscriptions', 'organizations_url': 'https://api.github.com/users/sheriffff/orgs', 'repos_url': 'https://api.github.com/users/sheriffff/repos', 'events_url': 'https://api.github.com/users/sheriffff/events{/privacy}', 'received_events_url': 'https://api.github.com/users/sheriffff/received_events', 'type': 'User', 'site_admin': False}, 'parents': [{'sha': 'bfc685e03667f3b35772ce03041f0b5f8997e5f2', 'url': 'https://api.github.com/repos/ironhack-datalabs/datamad1020-rev/commits/bfc685e03667f3b35772ce03041f0b5f8997e5f2', 'html_url': 'https://github.com/ironhack-datalabs/datamad1020-rev/commit/bfc685e03667f3b35772ce03041f0b5f8997e5f2'}]}]\n"
     ]
    }
   ],
   "source": [
    "print(res1.json()[:10])"
   ]
  },
  {
   "cell_type": "code",
   "execution_count": null,
   "id": "8fb2c07b",
   "metadata": {},
   "outputs": [],
   "source": []
  }
 ],
 "metadata": {
  "kernelspec": {
   "display_name": "Python 3 (ipykernel)",
   "language": "python",
   "name": "python3"
  },
  "language_info": {
   "codemirror_mode": {
    "name": "ipython",
    "version": 3
   },
   "file_extension": ".py",
   "mimetype": "text/x-python",
   "name": "python",
   "nbconvert_exporter": "python",
   "pygments_lexer": "ipython3",
   "version": "3.11.5"
  },
  "toc": {
   "base_numbering": 1,
   "nav_menu": {},
   "number_sections": true,
   "sideBar": true,
   "skip_h1_title": true,
   "title_cell": "Table of Contents",
   "title_sidebar": "Contents",
   "toc_cell": false,
   "toc_position": {
    "height": "calc(100% - 180px)",
    "left": "10px",
    "top": "150px",
    "width": "288px"
   },
   "toc_section_display": true,
   "toc_window_display": true
  }
 },
 "nbformat": 4,
 "nbformat_minor": 5
}
