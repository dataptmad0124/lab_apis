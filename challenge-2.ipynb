{
 "cells": [
  {
   "cell_type": "markdown",
   "id": "threaded-asbestos",
   "metadata": {},
   "source": [
    "# Challenge 2: Count Commits\n",
    "\n",
    "Count how many commits were made in the past week.\n",
    "\n",
    "Obtain all the commits made in the past week via API, which is a JSON array that contains multiple commit objects.\n",
    "\n",
    "Count how many commit objects are contained in the array."
   ]
  },
  {
   "cell_type": "markdown",
   "id": "norwegian-praise",
   "metadata": {},
   "source": [
    "⚠️ **Remember to limit your output before submission**."
   ]
  },
  {
   "cell_type": "code",
   "execution_count": 18,
   "id": "developing-printing",
   "metadata": {},
   "outputs": [
    {
     "name": "stdout",
     "output_type": "stream",
     "text": [
      "Requirement already satisfied: requests in /Library/Frameworks/Python.framework/Versions/3.11/lib/python3.11/site-packages (2.31.0)\n",
      "Requirement already satisfied: charset-normalizer<4,>=2 in /Library/Frameworks/Python.framework/Versions/3.11/lib/python3.11/site-packages (from requests) (3.3.2)\n",
      "Requirement already satisfied: idna<4,>=2.5 in /Library/Frameworks/Python.framework/Versions/3.11/lib/python3.11/site-packages (from requests) (3.6)\n",
      "Requirement already satisfied: urllib3<3,>=1.21.1 in /Library/Frameworks/Python.framework/Versions/3.11/lib/python3.11/site-packages (from requests) (2.2.0)\n",
      "Requirement already satisfied: certifi>=2017.4.17 in /Library/Frameworks/Python.framework/Versions/3.11/lib/python3.11/site-packages (from requests) (2022.9.24)\n",
      "\n",
      "\u001b[1m[\u001b[0m\u001b[34;49mnotice\u001b[0m\u001b[1;39;49m]\u001b[0m\u001b[39;49m A new release of pip available: \u001b[0m\u001b[31;49m22.3\u001b[0m\u001b[39;49m -> \u001b[0m\u001b[32;49m24.0\u001b[0m\n",
      "\u001b[1m[\u001b[0m\u001b[34;49mnotice\u001b[0m\u001b[1;39;49m]\u001b[0m\u001b[39;49m To update, run: \u001b[0m\u001b[32;49mpip3 install --upgrade pip\u001b[0m\n",
      "Note: you may need to restart the kernel to use updated packages.\n"
     ]
    }
   ],
   "source": [
    "#Your code\n",
    "import json\n",
    "%pip install requests\n",
    "\n",
    "\n",
    "import requests as req\n",
    "url ='https://api.github.com/repos/dataptmad0124/lab_df_calculations'"
   ]
  },
  {
   "cell_type": "code",
   "execution_count": 26,
   "metadata": {},
   "outputs": [
    {
     "data": {
      "text/plain": [
       "<Response [401]>"
      ]
     },
     "execution_count": 26,
     "metadata": {},
     "output_type": "execute_result"
    }
   ],
   "source": [
    "\n",
    "\n",
    "HEADER = {'Authorization': 'token ' + 'ghp_...'}\n",
    "res_git = req.get('https://api.github.com/repos/dataptmad0124/lab_df_calculations', headers=HEADER)   \n",
    "\n",
    "res_git"
   ]
  },
  {
   "cell_type": "code",
   "execution_count": 20,
   "metadata": {},
   "outputs": [
    {
     "data": {
      "text/plain": [
       "{'id': 752147705,\n",
       " 'node_id': 'R_kgDOLNTc-Q',\n",
       " 'name': 'lab_df_calculations',\n",
       " 'full_name': 'dataptmad0124/lab_df_calculations',\n",
       " 'private': False,\n",
       " 'owner': {'login': 'dataptmad0124',\n",
       "  'id': 156686250,\n",
       "  'node_id': 'O_kgDOCVbXqg',\n",
       "  'avatar_url': 'https://avatars.githubusercontent.com/u/156686250?v=4',\n",
       "  'gravatar_id': '',\n",
       "  'url': 'https://api.github.com/users/dataptmad0124',\n",
       "  'html_url': 'https://github.com/dataptmad0124',\n",
       "  'followers_url': 'https://api.github.com/users/dataptmad0124/followers',\n",
       "  'following_url': 'https://api.github.com/users/dataptmad0124/following{/other_user}',\n",
       "  'gists_url': 'https://api.github.com/users/dataptmad0124/gists{/gist_id}',\n",
       "  'starred_url': 'https://api.github.com/users/dataptmad0124/starred{/owner}{/repo}',\n",
       "  'subscriptions_url': 'https://api.github.com/users/dataptmad0124/subscriptions',\n",
       "  'organizations_url': 'https://api.github.com/users/dataptmad0124/orgs',\n",
       "  'repos_url': 'https://api.github.com/users/dataptmad0124/repos',\n",
       "  'events_url': 'https://api.github.com/users/dataptmad0124/events{/privacy}',\n",
       "  'received_events_url': 'https://api.github.com/users/dataptmad0124/received_events',\n",
       "  'type': 'Organization',\n",
       "  'site_admin': False},\n",
       " 'html_url': 'https://github.com/dataptmad0124/lab_df_calculations',\n",
       " 'description': None,\n",
       " 'fork': False,\n",
       " 'url': 'https://api.github.com/repos/dataptmad0124/lab_df_calculations',\n",
       " 'forks_url': 'https://api.github.com/repos/dataptmad0124/lab_df_calculations/forks',\n",
       " 'keys_url': 'https://api.github.com/repos/dataptmad0124/lab_df_calculations/keys{/key_id}',\n",
       " 'collaborators_url': 'https://api.github.com/repos/dataptmad0124/lab_df_calculations/collaborators{/collaborator}',\n",
       " 'teams_url': 'https://api.github.com/repos/dataptmad0124/lab_df_calculations/teams',\n",
       " 'hooks_url': 'https://api.github.com/repos/dataptmad0124/lab_df_calculations/hooks',\n",
       " 'issue_events_url': 'https://api.github.com/repos/dataptmad0124/lab_df_calculations/issues/events{/number}',\n",
       " 'events_url': 'https://api.github.com/repos/dataptmad0124/lab_df_calculations/events',\n",
       " 'assignees_url': 'https://api.github.com/repos/dataptmad0124/lab_df_calculations/assignees{/user}',\n",
       " 'branches_url': 'https://api.github.com/repos/dataptmad0124/lab_df_calculations/branches{/branch}',\n",
       " 'tags_url': 'https://api.github.com/repos/dataptmad0124/lab_df_calculations/tags',\n",
       " 'blobs_url': 'https://api.github.com/repos/dataptmad0124/lab_df_calculations/git/blobs{/sha}',\n",
       " 'git_tags_url': 'https://api.github.com/repos/dataptmad0124/lab_df_calculations/git/tags{/sha}',\n",
       " 'git_refs_url': 'https://api.github.com/repos/dataptmad0124/lab_df_calculations/git/refs{/sha}',\n",
       " 'trees_url': 'https://api.github.com/repos/dataptmad0124/lab_df_calculations/git/trees{/sha}',\n",
       " 'statuses_url': 'https://api.github.com/repos/dataptmad0124/lab_df_calculations/statuses/{sha}',\n",
       " 'languages_url': 'https://api.github.com/repos/dataptmad0124/lab_df_calculations/languages',\n",
       " 'stargazers_url': 'https://api.github.com/repos/dataptmad0124/lab_df_calculations/stargazers',\n",
       " 'contributors_url': 'https://api.github.com/repos/dataptmad0124/lab_df_calculations/contributors',\n",
       " 'subscribers_url': 'https://api.github.com/repos/dataptmad0124/lab_df_calculations/subscribers',\n",
       " 'subscription_url': 'https://api.github.com/repos/dataptmad0124/lab_df_calculations/subscription',\n",
       " 'commits_url': 'https://api.github.com/repos/dataptmad0124/lab_df_calculations/commits{/sha}',\n",
       " 'git_commits_url': 'https://api.github.com/repos/dataptmad0124/lab_df_calculations/git/commits{/sha}',\n",
       " 'comments_url': 'https://api.github.com/repos/dataptmad0124/lab_df_calculations/comments{/number}',\n",
       " 'issue_comment_url': 'https://api.github.com/repos/dataptmad0124/lab_df_calculations/issues/comments{/number}',\n",
       " 'contents_url': 'https://api.github.com/repos/dataptmad0124/lab_df_calculations/contents/{+path}',\n",
       " 'compare_url': 'https://api.github.com/repos/dataptmad0124/lab_df_calculations/compare/{base}...{head}',\n",
       " 'merges_url': 'https://api.github.com/repos/dataptmad0124/lab_df_calculations/merges',\n",
       " 'archive_url': 'https://api.github.com/repos/dataptmad0124/lab_df_calculations/{archive_format}{/ref}',\n",
       " 'downloads_url': 'https://api.github.com/repos/dataptmad0124/lab_df_calculations/downloads',\n",
       " 'issues_url': 'https://api.github.com/repos/dataptmad0124/lab_df_calculations/issues{/number}',\n",
       " 'pulls_url': 'https://api.github.com/repos/dataptmad0124/lab_df_calculations/pulls{/number}',\n",
       " 'milestones_url': 'https://api.github.com/repos/dataptmad0124/lab_df_calculations/milestones{/number}',\n",
       " 'notifications_url': 'https://api.github.com/repos/dataptmad0124/lab_df_calculations/notifications{?since,all,participating}',\n",
       " 'labels_url': 'https://api.github.com/repos/dataptmad0124/lab_df_calculations/labels{/name}',\n",
       " 'releases_url': 'https://api.github.com/repos/dataptmad0124/lab_df_calculations/releases{/id}',\n",
       " 'deployments_url': 'https://api.github.com/repos/dataptmad0124/lab_df_calculations/deployments',\n",
       " 'created_at': '2024-02-03T06:51:49Z',\n",
       " 'updated_at': '2024-02-03T06:52:16Z',\n",
       " 'pushed_at': '2024-02-12T16:17:27Z',\n",
       " 'git_url': 'git://github.com/dataptmad0124/lab_df_calculations.git',\n",
       " 'ssh_url': 'git@github.com:dataptmad0124/lab_df_calculations.git',\n",
       " 'clone_url': 'https://github.com/dataptmad0124/lab_df_calculations.git',\n",
       " 'svn_url': 'https://github.com/dataptmad0124/lab_df_calculations',\n",
       " 'homepage': None,\n",
       " 'size': 110,\n",
       " 'stargazers_count': 0,\n",
       " 'watchers_count': 0,\n",
       " 'language': 'Jupyter Notebook',\n",
       " 'has_issues': True,\n",
       " 'has_projects': True,\n",
       " 'has_downloads': True,\n",
       " 'has_wiki': True,\n",
       " 'has_pages': False,\n",
       " 'has_discussions': False,\n",
       " 'forks_count': 3,\n",
       " 'mirror_url': None,\n",
       " 'archived': False,\n",
       " 'disabled': False,\n",
       " 'open_issues_count': 1,\n",
       " 'license': None,\n",
       " 'allow_forking': True,\n",
       " 'is_template': False,\n",
       " 'web_commit_signoff_required': False,\n",
       " 'topics': [],\n",
       " 'visibility': 'public',\n",
       " 'forks': 3,\n",
       " 'open_issues': 1,\n",
       " 'watchers': 0,\n",
       " 'default_branch': 'main',\n",
       " 'permissions': {'admin': False,\n",
       "  'maintain': False,\n",
       "  'push': False,\n",
       "  'triage': False,\n",
       "  'pull': True},\n",
       " 'temp_clone_token': '',\n",
       " 'custom_properties': {},\n",
       " 'organization': {'login': 'dataptmad0124',\n",
       "  'id': 156686250,\n",
       "  'node_id': 'O_kgDOCVbXqg',\n",
       "  'avatar_url': 'https://avatars.githubusercontent.com/u/156686250?v=4',\n",
       "  'gravatar_id': '',\n",
       "  'url': 'https://api.github.com/users/dataptmad0124',\n",
       "  'html_url': 'https://github.com/dataptmad0124',\n",
       "  'followers_url': 'https://api.github.com/users/dataptmad0124/followers',\n",
       "  'following_url': 'https://api.github.com/users/dataptmad0124/following{/other_user}',\n",
       "  'gists_url': 'https://api.github.com/users/dataptmad0124/gists{/gist_id}',\n",
       "  'starred_url': 'https://api.github.com/users/dataptmad0124/starred{/owner}{/repo}',\n",
       "  'subscriptions_url': 'https://api.github.com/users/dataptmad0124/subscriptions',\n",
       "  'organizations_url': 'https://api.github.com/users/dataptmad0124/orgs',\n",
       "  'repos_url': 'https://api.github.com/users/dataptmad0124/repos',\n",
       "  'events_url': 'https://api.github.com/users/dataptmad0124/events{/privacy}',\n",
       "  'received_events_url': 'https://api.github.com/users/dataptmad0124/received_events',\n",
       "  'type': 'Organization',\n",
       "  'site_admin': False},\n",
       " 'network_count': 3,\n",
       " 'subscribers_count': 1}"
      ]
     },
     "execution_count": 20,
     "metadata": {},
     "output_type": "execute_result"
    }
   ],
   "source": [
    "res = req.get(url, headers=HEADER).json()\n",
    "\n",
    "res"
   ]
  },
  {
   "cell_type": "code",
   "execution_count": 21,
   "metadata": {},
   "outputs": [
    {
     "data": {
      "text/plain": [
       "dict_keys(['id', 'node_id', 'name', 'full_name', 'private', 'owner', 'html_url', 'description', 'fork', 'url', 'forks_url', 'keys_url', 'collaborators_url', 'teams_url', 'hooks_url', 'issue_events_url', 'events_url', 'assignees_url', 'branches_url', 'tags_url', 'blobs_url', 'git_tags_url', 'git_refs_url', 'trees_url', 'statuses_url', 'languages_url', 'stargazers_url', 'contributors_url', 'subscribers_url', 'subscription_url', 'commits_url', 'git_commits_url', 'comments_url', 'issue_comment_url', 'contents_url', 'compare_url', 'merges_url', 'archive_url', 'downloads_url', 'issues_url', 'pulls_url', 'milestones_url', 'notifications_url', 'labels_url', 'releases_url', 'deployments_url', 'created_at', 'updated_at', 'pushed_at', 'git_url', 'ssh_url', 'clone_url', 'svn_url', 'homepage', 'size', 'stargazers_count', 'watchers_count', 'language', 'has_issues', 'has_projects', 'has_downloads', 'has_wiki', 'has_pages', 'has_discussions', 'forks_count', 'mirror_url', 'archived', 'disabled', 'open_issues_count', 'license', 'allow_forking', 'is_template', 'web_commit_signoff_required', 'topics', 'visibility', 'forks', 'open_issues', 'watchers', 'default_branch', 'permissions', 'temp_clone_token', 'custom_properties', 'organization', 'network_count', 'subscribers_count'])"
      ]
     },
     "execution_count": 21,
     "metadata": {},
     "output_type": "execute_result"
    }
   ],
   "source": [
    "res.keys()"
   ]
  },
  {
   "cell_type": "code",
   "execution_count": 22,
   "metadata": {},
   "outputs": [
    {
     "name": "stdout",
     "output_type": "stream",
     "text": [
      "https://api.github.com/repos/dataptmad0124/lab_df_calculations/commits{/sha}\n"
     ]
    }
   ],
   "source": [
    "commits_url = res['commits_url']\n",
    "print(commits_url)"
   ]
  },
  {
   "cell_type": "code",
   "execution_count": 23,
   "metadata": {},
   "outputs": [],
   "source": [
    "commits_url = 'https://api.github.com/repos/ironhack-datalabs/dataptmad0124/lab_df_calculations'"
   ]
  },
  {
   "cell_type": "code",
   "execution_count": 24,
   "metadata": {},
   "outputs": [],
   "source": [
    "from datetime import datetime, timedelta\n",
    "\n",
    "one_week_ago = datetime.now() - timedelta(days=7)\n",
    "one_week_ago_str = one_week_ago.strftime('%Y-%m-%dT%H:%M:%SZ')\n",
    "\n",
    "# Parameters to filter commits by date\n",
    "params = {'since': one_week_ago_str}\n",
    "\n",
    "        \n",
    "response = req.get(commits_url, params=params)\n",
    "\n",
    " "
   ]
  },
  {
   "cell_type": "code",
   "execution_count": 25,
   "metadata": {},
   "outputs": [
    {
     "name": "stdout",
     "output_type": "stream",
     "text": [
      "2\n"
     ]
    }
   ],
   "source": [
    "commits_data = response.json()\n",
    "num_commits = len(commits_data)\n",
    "print(num_commits)"
   ]
  }
 ],
 "metadata": {
  "kernelspec": {
   "display_name": "Python 3",
   "language": "python",
   "name": "python3"
  },
  "language_info": {
   "codemirror_mode": {
    "name": "ipython",
    "version": 3
   },
   "file_extension": ".py",
   "mimetype": "text/x-python",
   "name": "python",
   "nbconvert_exporter": "python",
   "pygments_lexer": "ipython3",
   "version": "3.11.0"
  },
  "toc": {
   "base_numbering": 1,
   "nav_menu": {},
   "number_sections": true,
   "sideBar": true,
   "skip_h1_title": true,
   "title_cell": "Table of Contents",
   "title_sidebar": "Contents",
   "toc_cell": false,
   "toc_position": {
    "height": "calc(100% - 180px)",
    "left": "10px",
    "top": "150px",
    "width": "288px"
   },
   "toc_section_display": true,
   "toc_window_display": true
  }
 },
 "nbformat": 4,
 "nbformat_minor": 5
}
